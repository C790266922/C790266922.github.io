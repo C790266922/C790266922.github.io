{
 "cells": [
  {
   "cell_type": "markdown",
   "metadata": {},
   "source": [
    "# Back propagation through time"
   ]
  },
  {
   "cell_type": "markdown",
   "metadata": {},
   "source": [
    "以下是典型的RNN展开结构\n",
    "\n",
    "![](./rnn.png)"
   ]
  },
  {
   "cell_type": "markdown",
   "metadata": {},
   "source": [
    "梯度下降更新公式：\n",
    "$$U = U - \\eta\\frac{\\partial C}{\\partial U}\\tag1$$\n",
    "\n",
    "$$V = V - \\eta\\frac{\\partial C}{\\partial V}\\tag2$$\n",
    "\n",
    "$$W = W - \\eta\\frac{\\partial C}{\\partial W}\\tag3$$\n",
    "\n",
    "\n",
    "$U, V, W$是参数矩阵，目标即为求损失函数$C$关于这三个矩阵的偏导\n",
    "\n",
    "在$t$时刻，RNN输入为$s^*_t$:\n",
    "$$s^*_t = Ux_t + Ws_{t-1}\\tag4$$\n",
    "\n",
    "$s^*_t$经过激活函数$\\sigma$得到$t$时刻状态$s_t$:\n",
    "$$s_t = \\sigma(s^*_t) = \\sigma(Ux_t + Ws_{t-1})\\tag5$$  \n",
    "\n",
    "$s_t$经过矩阵$V$变换得到$t$时刻输出$o_t$:\n",
    "$$o_t = Vs_t\\tag6$$"
   ]
  },
  {
   "cell_type": "markdown",
   "metadata": {},
   "source": [
    "$t$时刻：\n",
    "$$\\frac{\\partial C_t}{\\partial V} = \\frac{\\partial C_t}{\\partial Vs_t} \\times \\frac{\\partial Vs_t}{\\partial V} = \\frac{\\partial C_t}{\\partial o_t} \\times {s_t}^T\\tag7$$  \n",
    "\n",
    "而：\n",
    "$$C = \\sum_{t=1}^{n}C_t\\tag8$$  \n",
    "\n",
    "故：\n",
    "$$\\frac{\\partial C}{\\partial V} = \\sum_{t=1}^{n}\\frac{\\partial C_t}{\\partial o_t} \\times {s_t}^T\\tag9$$"
   ]
  },
  {
   "cell_type": "markdown",
   "metadata": {},
   "source": [
    "$\\frac{\\partial C}{\\partial U}$与$\\frac{\\partial C}{\\partial W}$:\n",
    "\n",
    "$$\\frac{\\partial C_t}{\\partial U} = \\sum_{k=1}^{t}\\frac{\\partial C_t}{\\partial s^*_k} \\times \\frac{\\partial s^*_k}{\\partial U} = \\sum_{k=1}^{t}\\frac{\\partial C_t}{\\partial s^*_k} \\times x^T_k\\tag{10}$$\n",
    "\n",
    "$$\\frac{\\partial C_t}{\\partial W} = \\sum_{k=1}^{t}\\frac{\\partial C_t}{\\partial s^*_k} \\times \\frac{\\partial s^*_k}{\\partial W} = \\sum_{k=1}^{t}\\frac{\\partial C_t}{\\partial s^*_k} \\times s^T_{k-1}\\tag{11}$$"
   ]
  },
  {
   "cell_type": "markdown",
   "metadata": {},
   "source": [
    "故：\n",
    "$$\\frac{\\partial C}{\\partial U} = \\sum_{t=1}^{n}\\sum_{k=1}^{t}\\frac{\\partial C_t}{\\partial s^*_k} \\times x^T_k\\tag{12}$$\n",
    "\n",
    "$$\\frac{\\partial C}{\\partial W} = \\sum_{t=1}^{n}\\sum_{k=1}^{t}\\frac{\\partial C_t}{\\partial s^*_k} \\times s^T_{k-1}\\tag{13}$$"
   ]
  },
  {
   "cell_type": "markdown",
   "metadata": {},
   "source": [
    "$n$为记忆的时间步数"
   ]
  },
  {
   "cell_type": "markdown",
   "metadata": {},
   "source": [
    "现在目标为$\\frac{\\partial C_t}{\\partial s^*_k}$:  \n",
    "\n",
    "$$\\frac{\\partial C_t}{\\partial s^*_t} = \\frac{\\partial s_t}{\\partial s^*_t}(\\frac{\\partial Vs_t}{\\partial s_t} \\times \\frac{\\partial C_t}{\\partial Vs_t}) = \\sigma^\\prime(s^*_t)(V^T \\times \\frac{\\partial C_t}{\\partial o_t})\\tag{14}$$\n",
    "\n",
    "$$\\frac{\\partial C_t}{\\partial s^*_{k-1}} = \\frac{\\partial s^*_k}{\\partial s^*_{k-1}} \\times \\frac{\\partial C_t}{\\partial s^*_k} = \\sigma^\\prime(s^*_{k-1})(W^T \\times \\frac{\\partial C_t}{\\partial s^*_k})\\tag{15}$$"
   ]
  },
  {
   "cell_type": "markdown",
   "metadata": {},
   "source": [
    "由14式得出$t$时刻$\\frac{\\partial C_t}{\\partial s^*_t}$，根据15式将此误差在时间通道上向后传播，再结合1， 3， 12，13式更新$U, W$；$V$根据2，9式更新"
   ]
  }
 ],
 "metadata": {
  "kernelspec": {
   "display_name": "Python 3",
   "language": "python",
   "name": "python3"
  },
  "language_info": {
   "codemirror_mode": {
    "name": "ipython",
    "version": 3
   },
   "file_extension": ".py",
   "mimetype": "text/x-python",
   "name": "python",
   "nbconvert_exporter": "python",
   "pygments_lexer": "ipython3",
   "version": "3.6.5"
  }
 },
 "nbformat": 4,
 "nbformat_minor": 2
}
